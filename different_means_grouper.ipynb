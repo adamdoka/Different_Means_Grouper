{
 "cells": [
  {
   "cell_type": "code",
   "execution_count": 19,
   "metadata": {},
   "outputs": [],
   "source": [
    "import numpy as np\n",
    "import networkx as nx\n",
    "import pandas as pd\n",
    "import scipy.stats as stats"
   ]
  },
  {
   "cell_type": "code",
   "execution_count": 20,
   "metadata": {},
   "outputs": [],
   "source": [
    "# Main parameters\n",
    "\n",
    "items_in = 'demo_items_in.csv'\n",
    "items_out = 'demo_items_grouped.csv'\n",
    "groups_out = 'demo_groups.csv'"
   ]
  },
  {
   "cell_type": "code",
   "execution_count": 21,
   "metadata": {},
   "outputs": [],
   "source": [
    "### graphmx_from_test ###\n",
    "# items_in columns: id, mean, sd, n\n",
    "# returns 2D numpy array\n",
    "\n",
    "def graphmx_from_test(df_items_in, test_type, p_crit = 0.05):\n",
    "    graphmx = np.zeros(shape=(len(df_items_in), len(df_items_in)))\n",
    "    for i in range(len(df_items_in)):\n",
    "        for j in range(len(df_items_in)):\n",
    "            if i >= j:\n",
    "                continue\n",
    "            if test_type == 'ttest':\n",
    "                tt = (df_items_in.iloc[i]['mean']-df_items_in.iloc[j]['mean'])/ \\\n",
    "                    np.sqrt(((((df_items_in.iloc[i]['n']-1)*(df_items_in.iloc[i]['sd']**2))+((df_items_in.iloc[j]['n']-1)*(df_items_in.iloc[j]['sd']**2)))/ \\\n",
    "                    (df_items_in.iloc[i]['n']+df_items_in.iloc[j]['n']-2))*((1/df_items_in.iloc[i]['n'])+(1/df_items_in.iloc[j]['n'])))\n",
    "                pval = stats.t.sf(np.abs(tt), df_items_in.iloc[i]['n']-1+df_items_in.iloc[j]['n']-1)*2\n",
    "                graphmx[i][j] = 1 if pval >= p_crit else 0\n",
    "            elif test_type == 'chisq':\n",
    "                graphmx[i][j] = 0\n",
    "            else:\n",
    "                print(\"Unidentified significance test requested. Quitting...\")\n",
    "                return -1\n",
    "    return graphmx + graphmx.T"
   ]
  },
  {
   "cell_type": "code",
   "execution_count": 22,
   "metadata": {},
   "outputs": [],
   "source": [
    "### rm_redundant_cliques ###\n",
    "# removes the cliques that are entirely contained in an other clique\n",
    "\n",
    "def rm_redundant_cliques(cliques):\n",
    "    for i in range(len(cliques)):\n",
    "        for j in range(len(cliques)):\n",
    "            if i >= j:\n",
    "                continue\n",
    "            if set(cliques[i]).intersection(set(cliques[j])) == set(cliques[i]):\n",
    "                cliques[i] = []\n",
    "                break\n",
    "        if (i % (int(len(cliques)/100+1))) == 0:\n",
    "            print(f\"Removing redundant cliques... {int((i/len(cliques)*100))} %\", end='\\r')\n",
    "    print(\"Removing redundant cliques... done\")\n",
    "    print(\"Finishing...\", end='\\r')\n",
    "    while cliques.count([]) > 0:\n",
    "        cliques.remove([])\n",
    "    print(\"Finishing... done\")\n",
    "    return cliques"
   ]
  },
  {
   "cell_type": "code",
   "execution_count": 23,
   "metadata": {},
   "outputs": [],
   "source": [
    "### name_groups ###\n",
    "# assigns the names of the groups the item belongs to and adds them as a new column to the original data frame\n",
    "\n",
    "def name_groups(df_items_in, groups):\n",
    "    alphabet = \"abcdefghijklmnopqrstuvwxyz\"\n",
    "    l_alphabet = list(alphabet)\n",
    "    for letter in alphabet:\n",
    "        l_alphabet.append(letter + letter)\n",
    "    group_column = [\"\"] * len(df_items_in)\n",
    "    \n",
    "    if len(groups) <= len(l_alphabet):\n",
    "        for index, group in enumerate(groups):\n",
    "            for element in group:\n",
    "                group_column[element] += l_alphabet[index] + \",\"\n",
    "    else:\n",
    "        print(f\"There aren't enough group names ({len(l_alphabet)}) for the groups ({len(groups)}).\")\n",
    "    df_items_in['groups'] = group_column\n",
    "    \n",
    "    return df_items_in"
   ]
  },
  {
   "cell_type": "code",
   "execution_count": 24,
   "metadata": {},
   "outputs": [
    {
     "data": {
      "text/html": [
       "<div>\n",
       "<style scoped>\n",
       "    .dataframe tbody tr th:only-of-type {\n",
       "        vertical-align: middle;\n",
       "    }\n",
       "\n",
       "    .dataframe tbody tr th {\n",
       "        vertical-align: top;\n",
       "    }\n",
       "\n",
       "    .dataframe thead th {\n",
       "        text-align: right;\n",
       "    }\n",
       "</style>\n",
       "<table border=\"1\" class=\"dataframe\">\n",
       "  <thead>\n",
       "    <tr style=\"text-align: right;\">\n",
       "      <th></th>\n",
       "      <th>id</th>\n",
       "      <th>mean</th>\n",
       "      <th>sd</th>\n",
       "      <th>n</th>\n",
       "    </tr>\n",
       "  </thead>\n",
       "  <tbody>\n",
       "    <tr>\n",
       "      <td>0</td>\n",
       "      <td>A</td>\n",
       "      <td>1.288684</td>\n",
       "      <td>0.261579</td>\n",
       "      <td>20</td>\n",
       "    </tr>\n",
       "    <tr>\n",
       "      <td>1</td>\n",
       "      <td>B</td>\n",
       "      <td>1.378158</td>\n",
       "      <td>0.269093</td>\n",
       "      <td>20</td>\n",
       "    </tr>\n",
       "    <tr>\n",
       "      <td>2</td>\n",
       "      <td>C</td>\n",
       "      <td>1.345976</td>\n",
       "      <td>0.294123</td>\n",
       "      <td>20</td>\n",
       "    </tr>\n",
       "    <tr>\n",
       "      <td>3</td>\n",
       "      <td>D</td>\n",
       "      <td>1.124563</td>\n",
       "      <td>0.315958</td>\n",
       "      <td>20</td>\n",
       "    </tr>\n",
       "    <tr>\n",
       "      <td>4</td>\n",
       "      <td>E</td>\n",
       "      <td>0.648890</td>\n",
       "      <td>0.267577</td>\n",
       "      <td>20</td>\n",
       "    </tr>\n",
       "  </tbody>\n",
       "</table>\n",
       "</div>"
      ],
      "text/plain": [
       "  id      mean        sd   n\n",
       "0  A  1.288684  0.261579  20\n",
       "1  B  1.378158  0.269093  20\n",
       "2  C  1.345976  0.294123  20\n",
       "3  D  1.124563  0.315958  20\n",
       "4  E  0.648890  0.267577  20"
      ]
     },
     "execution_count": 24,
     "metadata": {},
     "output_type": "execute_result"
    }
   ],
   "source": [
    "df_items = pd.read_csv(items_in)\n",
    "df_items.head()"
   ]
  },
  {
   "cell_type": "code",
   "execution_count": 25,
   "metadata": {},
   "outputs": [
    {
     "name": "stdout",
     "output_type": "stream",
     "text": [
      "Number of all cliques: 32\n"
     ]
    }
   ],
   "source": [
    "a = graphmx_from_test(df_items[:20], 'ttest', 0.05)\n",
    "G = nx.Graph(a)\n",
    "cliques = [c for c in nx.enumerate_all_cliques(G)]\n",
    "\n",
    "print(f\"Number of all cliques: {len(cliques)}\")"
   ]
  },
  {
   "cell_type": "code",
   "execution_count": 26,
   "metadata": {},
   "outputs": [
    {
     "name": "stdout",
     "output_type": "stream",
     "text": [
      "Removing redundant cliques... done\n",
      "Finishing... done\n",
      "Number of non-redundant cliques (groups): 4\n"
     ]
    }
   ],
   "source": [
    "cliques_cleaned = rm_redundant_cliques(cliques)\n",
    "print(f\"Number of non-redundant cliques (groups): {len(cliques_cleaned)}\")"
   ]
  },
  {
   "cell_type": "code",
   "execution_count": 27,
   "metadata": {},
   "outputs": [
    {
     "data": {
      "text/html": [
       "<div>\n",
       "<style scoped>\n",
       "    .dataframe tbody tr th:only-of-type {\n",
       "        vertical-align: middle;\n",
       "    }\n",
       "\n",
       "    .dataframe tbody tr th {\n",
       "        vertical-align: top;\n",
       "    }\n",
       "\n",
       "    .dataframe thead th {\n",
       "        text-align: right;\n",
       "    }\n",
       "</style>\n",
       "<table border=\"1\" class=\"dataframe\">\n",
       "  <thead>\n",
       "    <tr style=\"text-align: right;\">\n",
       "      <th></th>\n",
       "      <th>id</th>\n",
       "      <th>mean</th>\n",
       "      <th>sd</th>\n",
       "      <th>n</th>\n",
       "      <th>groups</th>\n",
       "    </tr>\n",
       "  </thead>\n",
       "  <tbody>\n",
       "    <tr>\n",
       "      <td>0</td>\n",
       "      <td>A</td>\n",
       "      <td>1.288684</td>\n",
       "      <td>0.261579</td>\n",
       "      <td>20</td>\n",
       "      <td>a,b,</td>\n",
       "    </tr>\n",
       "    <tr>\n",
       "      <td>1</td>\n",
       "      <td>B</td>\n",
       "      <td>1.378158</td>\n",
       "      <td>0.269093</td>\n",
       "      <td>20</td>\n",
       "      <td>a,</td>\n",
       "    </tr>\n",
       "    <tr>\n",
       "      <td>2</td>\n",
       "      <td>C</td>\n",
       "      <td>1.345976</td>\n",
       "      <td>0.294123</td>\n",
       "      <td>20</td>\n",
       "      <td>a,</td>\n",
       "    </tr>\n",
       "    <tr>\n",
       "      <td>3</td>\n",
       "      <td>D</td>\n",
       "      <td>1.124563</td>\n",
       "      <td>0.315958</td>\n",
       "      <td>20</td>\n",
       "      <td>b,c,</td>\n",
       "    </tr>\n",
       "    <tr>\n",
       "      <td>4</td>\n",
       "      <td>E</td>\n",
       "      <td>0.648890</td>\n",
       "      <td>0.267577</td>\n",
       "      <td>20</td>\n",
       "      <td>d,</td>\n",
       "    </tr>\n",
       "  </tbody>\n",
       "</table>\n",
       "</div>"
      ],
      "text/plain": [
       "  id      mean        sd   n groups\n",
       "0  A  1.288684  0.261579  20   a,b,\n",
       "1  B  1.378158  0.269093  20     a,\n",
       "2  C  1.345976  0.294123  20     a,\n",
       "3  D  1.124563  0.315958  20   b,c,\n",
       "4  E  0.648890  0.267577  20     d,"
      ]
     },
     "execution_count": 27,
     "metadata": {},
     "output_type": "execute_result"
    }
   ],
   "source": [
    "cliques_cleaned = sorted(cliques_cleaned)\n",
    "df_items_out = name_groups(df_items, cliques_cleaned)\n",
    "df_items_out.head()"
   ]
  },
  {
   "cell_type": "code",
   "execution_count": 28,
   "metadata": {},
   "outputs": [],
   "source": [
    "df_items_out.to_csv(items_out, index=False)"
   ]
  },
  {
   "cell_type": "code",
   "execution_count": 29,
   "metadata": {},
   "outputs": [],
   "source": [
    "df_groups = pd.DataFrame(cliques_cleaned, dtype=np.float)"
   ]
  },
  {
   "cell_type": "code",
   "execution_count": 30,
   "metadata": {},
   "outputs": [],
   "source": [
    "df_groups.to_csv(groups_out)"
   ]
  },
  {
   "cell_type": "code",
   "execution_count": null,
   "metadata": {},
   "outputs": [],
   "source": []
  }
 ],
 "metadata": {
  "kernelspec": {
   "display_name": "Python 3",
   "language": "python",
   "name": "python3"
  },
  "language_info": {
   "codemirror_mode": {
    "name": "ipython",
    "version": 3
   },
   "file_extension": ".py",
   "mimetype": "text/x-python",
   "name": "python",
   "nbconvert_exporter": "python",
   "pygments_lexer": "ipython3",
   "version": "3.6.9"
  }
 },
 "nbformat": 4,
 "nbformat_minor": 4
}
